{
 "cells": [
  {
   "cell_type": "markdown",
   "metadata": {},
   "source": [
    "# Algorithms, Binary Search & Sorting"
   ]
  },
  {
   "cell_type": "markdown",
   "metadata": {},
   "source": [
    "## Tasks Today:\n",
    " \n",
    "1) <b>In-Place Algorithms</b> <br>\n",
    " &nbsp;&nbsp;&nbsp;&nbsp; a) Syntax <br>\n",
    " &nbsp;&nbsp;&nbsp;&nbsp; a) Out of Place Algorithm <br>\n",
    " &nbsp;&nbsp;&nbsp;&nbsp; b) In-Class Exercise #1 <br>\n",
    "2) <b>Two Pointers</b> <br>\n",
    "3) <b>Sorting Algos</b> <br>\n",
    " &nbsp;&nbsp;&nbsp;&nbsp; a) Video on Algorithms <br>\n",
    " &nbsp;&nbsp;&nbsp;&nbsp; b) How it Works <br>\n",
    "4) <b>Exercises</b> <br>\n",
    " &nbsp;&nbsp;&nbsp;&nbsp; a) Exercise #1 - Reverse a List in Place Using an In-Place Algorithm <br>\n",
    " &nbsp;&nbsp;&nbsp;&nbsp; b) Exercise #2 - Find Distinct Words <br>\n",
    " &nbsp;&nbsp;&nbsp;&nbsp; c) Exercise #3 - Write a program to implement a Linear Search Algorithm. <br>"
   ]
  },
  {
   "cell_type": "markdown",
   "metadata": {},
   "source": [
    "## In-Place Algorithms"
   ]
  },
  {
   "cell_type": "markdown",
   "metadata": {},
   "source": [
    "#### Syntax"
   ]
  },
  {
   "cell_type": "code",
   "execution_count": 6,
   "metadata": {},
   "outputs": [
    {
     "name": "stdout",
     "output_type": "stream",
     "text": [
      "original- [1, 5, 3, 16, 2]\n",
      "original- [0, 66]\n",
      "AFTER swap- [2, 5, 3, 16, 1]\n",
      "AFTER swap- [0, 66]\n"
     ]
    }
   ],
   "source": [
    "# in-place modifies the ACTUAL list/data structure (.sorted)\n",
    "#   0      1:         1        0\n",
    "#var(i), var[i+1] = var[i+1], var[i]\n",
    "\n",
    "# def swap(alist, x, y):\n",
    "#     tempa = alist[x]\n",
    "#     tempb = alist[y]\n",
    "#     alist[x] = tempb\n",
    "#     alist[y] = tempa\n",
    "\n",
    "def swap(alist, x, y):\n",
    "    alist[x], alist[y], = alist[y], alist[x]\n",
    "nums = [1, 5, 3, 16, 2]\n",
    "eznums = [0, 66]\n",
    "print(f'original- {nums}')\n",
    "print(f'original- {eznums}')\n",
    "swap(nums, 0, 4)\n",
    "print(f'AFTER swap- {nums}')\n",
    "print(f'AFTER swap- {eznums}')\n"
   ]
  },
  {
   "cell_type": "markdown",
   "metadata": {},
   "source": [
    "#### Out of Place Algorithm"
   ]
  },
  {
   "cell_type": "code",
   "execution_count": null,
   "metadata": {},
   "outputs": [],
   "source": [
    "# out-of-place returns a modified copy. \n",
    "def swap(alist, x, y):\n",
    "    copy = alist[:]\n",
    "    copy[x], copy[y], = copy[y], copy[x]\n",
    "    return copy\n",
    "\n",
    "nums = [1, 5, 3, 16, 2]\n",
    "print(f'original- {nums}')\n",
    "swap(nums, 0, 4)\n",
    "print(f'AFTER swap- {nums}')\n"
   ]
  },
  {
   "cell_type": "markdown",
   "metadata": {},
   "source": [
    "#### In-Class Exercise #1 <br>\n",
    "<p>Write a function that takes in four arguments (list, index1, index2, index3), and swaps those three positions in the list passed in.</p>"
   ]
  },
  {
   "cell_type": "code",
   "execution_count": 24,
   "metadata": {},
   "outputs": [
    {
     "name": "stdout",
     "output_type": "stream",
     "text": [
      "[10, 4, 3, 8, 4, 2, 6]\n",
      "[3, 10, 4, 8, 4, 2, 6]\n"
     ]
    }
   ],
   "source": [
    "l_1 = [10, 4, 3, 8, 4, 2, 6]\n",
    "\n",
    "def swap3(alist, x, y, z):\n",
    "    alist[x], alist[y], alist[z] = alist[z], alist[x], alist[y]\n",
    "    \n",
    "print(l_1)\n",
    "swap3(l_1, 0, 1, 2)\n",
    "print(l_1)\n"
   ]
  },
  {
   "cell_type": "markdown",
   "metadata": {},
   "source": [
    "## Two Pointers"
   ]
  },
  {
   "cell_type": "markdown",
   "metadata": {},
   "source": [
    "#### Syntax"
   ]
  },
  {
   "cell_type": "code",
   "execution_count": 90,
   "metadata": {},
   "outputs": [
    {
     "name": "stdout",
     "output_type": "stream",
     "text": [
      "[1, 2, 3, 4, 5]\n",
      "[5, 4, 3, 2, 1]\n"
     ]
    }
   ],
   "source": [
    "#        0  1  2  3  4\n",
    "#       -5  -4 -3 -2 -1\n",
    "nums2 = [1, 2, 3, 4, 5]\n",
    "nums3 = [5, 9, 11, 56, 45, 2, 86, 21]\n",
    "\n",
    "def twoPointer(numlist):\n",
    "    #create our pointers\n",
    "    left = 0\n",
    "    right = len(numlist)-1\n",
    "    while left < right:\n",
    "        numlist[left], numlist[right] = numlist[right], numlist[left]\n",
    "        left += 1\n",
    "        right -= 1\n",
    "\n",
    "print(nums2)\n",
    "twoPointer(nums2)\n",
    "print(nums2)\n",
    "        "
   ]
  },
  {
   "cell_type": "markdown",
   "metadata": {},
   "source": [
    "#### Video of Algorithms <br>\n",
    "<p>Watch the video about algorithms.</p>\n",
    "\n",
    "https://www.youtube.com/watch?v=Q9HjeFD62Uk\n",
    "\n",
    "https://www.youtube.com/watch?v=kPRA0W1kECg\n",
    "\n",
    "https://www.youtube.com/watch?v=ZZuD6iUe3Pc"
   ]
  },
  {
   "cell_type": "markdown",
   "metadata": {},
   "source": [
    "# Sorting Algorithms"
   ]
  },
  {
   "cell_type": "markdown",
   "metadata": {},
   "source": [
    "#### Bubble Sort\n",
    "\n",
    "Worst Case: O(n^2) Time - O(1) Space"
   ]
  },
  {
   "cell_type": "code",
   "execution_count": 50,
   "metadata": {},
   "outputs": [
    {
     "name": "stdout",
     "output_type": "stream",
     "text": [
      "[5, 3, 84, 65, 10, 91, 2]\n",
      "[2, 3, 5, 10, 65, 84, 91]\n"
     ]
    }
   ],
   "source": [
    "#this is going to be a helper func\n",
    "def swap(alist, x, y):\n",
    "    alist[x], alist[y], = alist[y], alist[x]\n",
    "    \n",
    "def bubbleSort(arr):\n",
    "    for x in range(len(arr)):\n",
    "        count = 0\n",
    "        #print(f\"count-{count}\")\n",
    "        for i in range(len(arr)-1):\n",
    "            #print(f\"i-{i}\")\n",
    "            if arr[i] > arr[i+1]:\n",
    "                swap(arr, i, i+1)\n",
    "        count += 1\n",
    "nums5 = [5, 3, 84, 65, 10, 91, 2]\n",
    "# print(nums5)\n",
    "# bubbleSort(nums5)\n",
    "# print(nums5)\n",
    "\n",
    "def bubbleSortOp(arr):\n",
    "    isSorted = False\n",
    "    while not isSorted:\n",
    "        isSorted = True\n",
    "        for i in range(len(arr)-1): #watch the error\n",
    "            if arr[i] > arr[i+1]:\n",
    "                swap(arr, i, i+1)\n",
    "                isSorted = False\n",
    "print(nums5)\n",
    "bubbleSortOp(nums5)\n",
    "print(nums5)"
   ]
  },
  {
   "cell_type": "markdown",
   "metadata": {},
   "source": [
    "##### Insertion Sort\n",
    "\n",
    "Worst Case: O(n^2) time - O(1)space"
   ]
  },
  {
   "cell_type": "code",
   "execution_count": 89,
   "metadata": {},
   "outputs": [
    {
     "name": "stdout",
     "output_type": "stream",
     "text": [
      "[55, 1, 99, 65, 41, 3, 8, 74]\n",
      "[1, 3, 8, 41, 55, 65, 74, 99]\n"
     ]
    }
   ],
   "source": [
    "def swap(alist, x, y):\n",
    "    alist[x], alist[y] = alist[y], alist[x]\n",
    "    \n",
    "def insSort(arr):\n",
    "    for i in range(len(arr)):\n",
    "        j = i\n",
    "        while j > 0 and arr[j] < arr[j-1]:\n",
    "            swap(arr, j, j-1)\n",
    "            j-=1\n",
    "            \n",
    "nums6 = [55, 1, 99, 65, 41, 3, 8, 74]\n",
    "\n",
    "print(nums6)\n",
    "insSort(nums6)\n",
    "print(nums6)"
   ]
  },
  {
   "cell_type": "markdown",
   "metadata": {},
   "source": [
    "## Merge Sort"
   ]
  },
  {
   "cell_type": "markdown",
   "metadata": {},
   "source": [
    "#### How it Works"
   ]
  },
  {
   "cell_type": "code",
   "execution_count": 62,
   "metadata": {},
   "outputs": [
    {
     "name": "stdout",
     "output_type": "stream",
     "text": [
      "[55, 1, 99, 65, 41, 3, 8, 74]\n",
      "Splitting....  [55, 1, 99, 65, 41, 3, 8, 74]\n",
      "Splitting....  [55, 1, 99, 65]\n",
      "Splitting....  [55, 1]\n",
      "Splitting....  [55]\n",
      "Splitting....  [1]\n",
      "Splitting....  [99, 65]\n",
      "Splitting....  [99]\n",
      "Splitting....  [65]\n",
      "Merging [1, 55, 65, 65]\n",
      "Merging [1, 55, 65, 99]\n",
      "Splitting....  [41, 3, 8, 74]\n",
      "Splitting....  [41, 3]\n",
      "Splitting....  [41]\n",
      "Splitting....  [3]\n",
      "Splitting....  [8, 74]\n",
      "Splitting....  [8]\n",
      "Splitting....  [74]\n",
      "Merging [8, 74]\n",
      "Merging [3, 41, 8, 74]\n",
      "Merging [3, 41, 8, 74]\n",
      "Merging [1, 55, 65, 99, 3, 3, 8, 74]\n",
      "Merging [1, 55, 65, 99, 3, 41, 8, 74]\n",
      "Merging [1, 55, 65, 99, 3, 41, 8, 74]\n",
      "Merging [1, 55, 65, 99, 3, 41, 8, 74]\n",
      "[1, 55, 65, 99, 3, 41, 8, 74]\n"
     ]
    }
   ],
   "source": [
    "#1. Split everything from the middle and kep going until we cant go any further.\n",
    "#2. from left to right merge groups together\n",
    "#3. while merging, place each item where it belongs within the merged group\n",
    "#4.repeat, keep going ,all the way up the chain\n",
    "\n",
    "def mergeSort(alist):\n",
    "    print('Splitting.... ', alist)\n",
    "    # step 1\n",
    "    if len(alist) > 1:\n",
    "        mid = len(alist)//2\n",
    "        lefthalf = alist[:mid]\n",
    "        righthalf = alist[mid:]\n",
    "        \n",
    "        #this is where we will make a recursive call!\n",
    "        \n",
    "        mergeSort(lefthalf)\n",
    "        mergeSort(righthalf)\n",
    "        \n",
    "        #create our pointers\n",
    "        i, j, k = 0, 0, 0\n",
    "        #step 2 lets compare lefthalf to righthalf\n",
    "        while i < len(lefthalf) and j < len(righthalf):\n",
    "            if lefthalf[i] < righthalf[j]:\n",
    "                alist[k] = lefthalf[i]\n",
    "                i += 1\n",
    "                k += 1\n",
    "            else:\n",
    "                alist[k] = righthalf[j]\n",
    "                j += 1\n",
    "                k += 1\n",
    "                \n",
    "                #step 3 - while merging: placement\n",
    "            while i  < len(lefthalf):\n",
    "                alist[k] = lefthalf[i]\n",
    "                i += 1\n",
    "                k += 1\n",
    "            while j < len(righthalf):\n",
    "                alist[k] = righthalf[j]\n",
    "                j += 1\n",
    "                k += 1\n",
    "                print('Merging', alist)\n",
    "nums7 = [55, 1, 99, 65, 41, 3, 8, 74]\n",
    "print(nums7)\n",
    "mergeSort(nums7)\n",
    "print(nums7)"
   ]
  },
  {
   "cell_type": "markdown",
   "metadata": {},
   "source": [
    "# Binary Search\n",
    "\n",
    "The Binary Search algorithm works by finding the number in the middle of a given array and comparing it to the target. Given that the array is sorted\n",
    "\n",
    "* The worst case run time for this algorithm is `O(log(n))`"
   ]
  },
  {
   "cell_type": "code",
   "execution_count": 88,
   "metadata": {},
   "outputs": [
    {
     "name": "stdout",
     "output_type": "stream",
     "text": [
      "[1, 55, 65, 99, 3, 41, 8, 74]\n",
      "I found your target at index: 7\n",
      "I found your target at index: 5\n"
     ]
    }
   ],
   "source": [
    "print(nums7)\n",
    "nums8 = [1, 3, 4, 9, 11, 18, 50, 68, 97] \n",
    "nums9 = list(range(11))\n",
    "def binSearch(nums, target):\n",
    "    left = 0\n",
    "    right = len(nums)-1\n",
    "    while left <= right:\n",
    "        mid = (left + right)//2\n",
    "        potentialMatch = nums[mid]\n",
    "        if target == potentialMatch:\n",
    "            return f\"I found your target at index: {mid}\"\n",
    "        elif target < potentialMatch:\n",
    "            right = mid - 1\n",
    "        elif target > potentialMatch:\n",
    "            left = mid + 1\n",
    "    return f\"Sorry, your target isn't there!!!!\"\n",
    "print(binSearch(nums8, 68))\n",
    "print(binSearch(nums9, 5))"
   ]
  },
  {
   "cell_type": "markdown",
   "metadata": {},
   "source": [
    "# Exercises"
   ]
  },
  {
   "cell_type": "markdown",
   "metadata": {},
   "source": [
    "### Exercise #1 <br>\n",
    "<p>Reverse the list below in-place using an in-place algorithm.<br>For extra credit: Reverse the strings at the same time.</p>"
   ]
  },
  {
   "cell_type": "code",
   "execution_count": 115,
   "metadata": {},
   "outputs": [
    {
     "name": "stdout",
     "output_type": "stream",
     "text": [
      "['.', 'sentence', 'a', 'is', 'this']\n"
     ]
    }
   ],
   "source": [
    "words = ['this' , 'is', 'a', 'sentence', '.']\n",
    "\n",
    "def swap3(alist, v, w, x, y, z):\n",
    "    alist[v], alist[w], alist[x], alist[y], alist[z] = alist[z], alist[y], alist[x], alist[w], alist[v]\n",
    "swap3(words, 0, 1, 2, 3, 4)    \n",
    "print(words)\n",
    "\n"
   ]
  },
  {
   "cell_type": "markdown",
   "metadata": {},
   "source": [
    "### Exercise #2 <br>\n",
    "<p>Create a function that counts how many distinct words are in the string below, then outputs a dictionary with the words as the key and the value as the amount of times that word appears in the string.<br>Should output:<br>{'a': 5,<br>\n",
    " 'abstract': 1,<br>\n",
    " 'an': 3,<br>\n",
    " 'array': 2, ... etc...</p>"
   ]
  },
  {
   "cell_type": "code",
   "execution_count": 143,
   "metadata": {},
   "outputs": [
    {
     "name": "stdout",
     "output_type": "stream",
     "text": [
      " In : 1 \n",
      " computing, : 1 \n",
      " a : 4 \n",
      " hash : 4 \n",
      " table : 2 \n",
      " map : 2 \n",
      " is : 1 \n",
      " data : 2 \n",
      " structure : 2 \n",
      " which : 2 \n",
      " implements : 1 \n",
      " an : 3 \n",
      " associative : 1 \n",
      " array : 2 \n",
      " abstract : 1 \n",
      " type, : 1 \n",
      " that : 1 \n",
      " can : 2 \n",
      " keys : 1 \n",
      " to : 2 \n",
      " values : 1 \n",
      " A : 1 \n",
      " uses : 1 \n",
      " function : 1 \n",
      " compute : 1 \n",
      " index : 1 \n",
      " into : 1 \n",
      " of : 1 \n",
      " buckets : 1 \n",
      " or : 1 \n",
      " slots : 1 \n",
      " from : 1 \n",
      " the : 1 \n",
      " desired : 1 \n",
      " value : 1 \n",
      " be : 1 \n",
      " found : 1 \n"
     ]
    }
   ],
   "source": [
    "#  Split the file contents into words using the split() function.\n",
    "#  Create a dictionary for counting the number of occurrences of each word.\n",
    "#  Create a counter variable to count a number of unique words.\n",
    "\n",
    "\n",
    "my_str = 'In computing, a hash table hash map is a data structure which implements an associative array abstract data \n",
    "type, a structure that can map keys to values. A hash table uses a hash function to compute an index into an array of \n",
    "buckets or slots from which the desired value can be found'\n",
    "\n",
    " \n",
    "# Declare a dictionary\n",
    "dictionary = {}\n",
    " \n",
    "# split all the word of the string.\n",
    "lst = my_str.split()\n",
    " \n",
    "# take each word from lst and pass it to the method count.\n",
    "for elements in lst:\n",
    "    count(elements)\n",
    " \n",
    "# print the keys and its corresponding values.\n",
    "for allKeys in dictionary:\n",
    "    print (\"\", allKeys, end = \" \")\n",
    "    print (\":\", end = \" \")\n",
    "    print (dictionary[allKeys], end = \" \")\n",
    "    print()"
   ]
  },
  {
   "cell_type": "markdown",
   "metadata": {},
   "source": [
    "## Exercise #3\n",
    "\n",
    "Write a program to implement a Linear Search Algorithm. Also in a comment, write the Time Complexity of the following algorithm.\n",
    "\n",
    "#### Hint: Linear Searching will require searching a list for a given number. "
   ]
  },
  {
   "cell_type": "code",
   "execution_count": 128,
   "metadata": {},
   "outputs": [
    {
     "name": "stdout",
     "output_type": "stream",
     "text": [
      "I found your number\n"
     ]
    }
   ],
   "source": [
    "#print(nums7)\n",
    "nums = [11, 74, 63, 53, 81, 57, 55, 72, 38, 80] \n",
    "nums1 = list(range(1))\n",
    "def binSearch(nums, target):\n",
    "    left = 0\n",
    "    right = len(nums)-1\n",
    "    while left <= right:\n",
    "        mid = (left + right)//2\n",
    "        potentialMatch = nums[mid]\n",
    "        if target == potentialMatch:\n",
    "            return f\"I found your number\"\n",
    "        elif target < potentialMatch:\n",
    "            right = mid - 1\n",
    "        elif target > potentialMatch:\n",
    "            left = mid + 1\n",
    "    return f\"Please try again!\"\n",
    "print(binSearch(nums, 74))\n",
    "#print(binSearch(nums1, 5))"
   ]
  },
  {
   "cell_type": "code",
   "execution_count": null,
   "metadata": {},
   "outputs": [],
   "source": []
  }
 ],
 "metadata": {
  "kernelspec": {
   "display_name": "Python 3 (ipykernel)",
   "language": "python",
   "name": "python3"
  },
  "language_info": {
   "codemirror_mode": {
    "name": "ipython",
    "version": 3
   },
   "file_extension": ".py",
   "mimetype": "text/x-python",
   "name": "python",
   "nbconvert_exporter": "python",
   "pygments_lexer": "ipython3",
   "version": "3.9.13"
  }
 },
 "nbformat": 4,
 "nbformat_minor": 2
}
